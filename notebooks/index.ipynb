{
 "cells": [
  {
   "cell_type": "markdown",
   "id": "552ee1c9-bbe1-46ba-a6f6-8f157c02547f",
   "metadata": {},
   "source": [
    "# PyMongo Demo\n",
    "\n",
    "Demonstration of the PyMongo Library using Jupyter Notebooks"
   ]
  },
  {
   "cell_type": "markdown",
   "id": "3d29dbb0-dd4d-4a3a-adb4-a32d94290597",
   "metadata": {},
   "source": [
    "This Demonstration is meant to be run on [Binder](https://mybinder.org/), but can also be used with a database created on [MongoDB Atlas](https://www.mongodb.com/atlas).  These materials are adapted from the [MongoDB for Python Developers](https://university.mongodb.com/courses/M220P/about) course on MongoDB University.  If using Atlas, make sure you have the sample data loaded in your database and use the `\"mongodb+srv:\"` `uri` whenever creating a `MongoClient` object."
   ]
  },
  {
   "cell_type": "code",
   "execution_count": 9,
   "id": "5dda42e1-79e0-4b59-bae8-8dd1fbe09d38",
   "metadata": {},
   "outputs": [
    {
     "data": {
      "text/plain": [
       "Database(MongoClient(host=['localhost:27017'], document_class=dict, tz_aware=False, connect=True), 'stats')"
      ]
     },
     "execution_count": 9,
     "metadata": {},
     "output_type": "execute_result"
    }
   ],
   "source": [
    "from pymongo import MongoClient\n",
    "client = MongoClient()\n",
    "client.stats"
   ]
  },
  {
   "cell_type": "markdown",
   "id": "580f54e1-0fcc-4546-b529-1112b6c101fb",
   "metadata": {
    "tags": []
   },
   "source": [
    "## Your First Read\n",
    "[Exploring the MFlix Database](./your_first_read.ipynb)"
   ]
  },
  {
   "cell_type": "markdown",
   "id": "53534545-d019-423a-b259-6296f157ddc3",
   "metadata": {},
   "source": [
    "## Basic Aggregation\n",
    "\n",
    "[Using aggregration for more advanced exploration](./basic_aggregation)\n",
    "\n"
   ]
  },
  {
   "cell_type": "code",
   "execution_count": null,
   "id": "7b53ec1e-c2f1-480e-817e-fe0952ba75de",
   "metadata": {},
   "outputs": [],
   "source": []
  }
 ],
 "metadata": {
  "kernelspec": {
   "display_name": "Python 3 (ipykernel)",
   "language": "python",
   "name": "python3"
  },
  "language_info": {
   "codemirror_mode": {
    "name": "ipython",
    "version": 3
   },
   "file_extension": ".py",
   "mimetype": "text/x-python",
   "name": "python",
   "nbconvert_exporter": "python",
   "pygments_lexer": "ipython3",
   "version": "3.9.7"
  }
 },
 "nbformat": 4,
 "nbformat_minor": 5
}
