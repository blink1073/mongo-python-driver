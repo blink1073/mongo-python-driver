{
 "cells": [
  {
   "cell_type": "code",
   "execution_count": 1,
   "metadata": {},
   "outputs": [],
   "source": [
    "import pymongo\n",
    "from bson.json_util import dumps\n",
    "client = pymongo.MongoClient()\n",
    "mflix = client.sample_mflix\n",
    "movies = mflix.movies"
   ]
  },
  {
   "cell_type": "code",
   "execution_count": 2,
   "metadata": {},
   "outputs": [],
   "source": [
    "sam_raimi_cursor = movies.find( { \"directors\": \"Sam Raimi\" } )"
   ]
  },
  {
   "cell_type": "code",
   "execution_count": 3,
   "metadata": {},
   "outputs": [
    {
     "data": {
      "text/plain": [
       "<pymongo.cursor.Cursor at 0x1101b5bb0>"
      ]
     },
     "execution_count": 3,
     "metadata": {},
     "output_type": "execute_result"
    }
   ],
   "source": [
    "sam_raimi_cursor"
   ]
  },
  {
   "cell_type": "code",
   "execution_count": 4,
   "metadata": {},
   "outputs": [
    {
     "data": {
      "text/plain": [
       "{'_id': ObjectId('573a1397f29313caabce843c'),\n",
       " 'plot': 'Five friends travel to a cabin in the woods, where they unknowingly release flesh-possessing demons.',\n",
       " 'genres': ['Horror'],\n",
       " 'runtime': 85,\n",
       " 'metacritic': 70,\n",
       " 'rated': 'NC-17',\n",
       " 'cast': ['Bruce Campbell',\n",
       "  'Ellen Sandweiss',\n",
       "  'Richard DeManincor',\n",
       "  'Betsy Baker'],\n",
       " 'poster': 'https://m.media-amazon.com/images/M/MV5BODc2MmVjZmUtNjAzMS00MDNiLWIyM2YtOGEzMjg0YjRhMzRmXkEyXkFqcGdeQXVyMTQxNzMzNDI@._V1_SY1000_SX677_AL_.jpg',\n",
       " 'title': 'The Evil Dead',\n",
       " 'fullplot': 'As a vacation, five friends travel to a small cabin in a deserted jungle. When their first target has been to reach peace, they should fight restlessly as they find themselves surrounded by an evil force that turns its victims into heartless monsters.',\n",
       " 'languages': ['English'],\n",
       " 'released': datetime.datetime(1983, 4, 24, 0, 0),\n",
       " 'directors': ['Sam Raimi'],\n",
       " 'writers': ['Sam Raimi'],\n",
       " 'awards': {'wins': 3, 'nominations': 1, 'text': '3 wins & 1 nomination.'},\n",
       " 'lastupdated': '2015-09-10 17:16:54.720000000',\n",
       " 'year': 1981,\n",
       " 'imdb': {'rating': 7.6, 'votes': 127411, 'id': 83907},\n",
       " 'countries': ['USA'],\n",
       " 'type': 'movie',\n",
       " 'tomatoes': {'viewer': {'rating': 3.7, 'numReviews': 200637, 'meter': 84},\n",
       "  'dvd': datetime.datetime(1999, 1, 19, 0, 0),\n",
       "  'critic': {'rating': 8.1, 'numReviews': 53, 'meter': 96},\n",
       "  'lastUpdated': datetime.datetime(2015, 9, 12, 18, 53, 45),\n",
       "  'consensus': 'This classic low budget horror film combines just the right amount of gore and black humor, giving The Evil Dead an equal amount of thrills and laughs.',\n",
       "  'rotten': 2,\n",
       "  'production': 'New Line Cinema',\n",
       "  'fresh': 51}}"
      ]
     },
     "execution_count": 4,
     "metadata": {},
     "output_type": "execute_result"
    }
   ],
   "source": [
    "list(sam_raimi_cursor)[0]"
   ]
  },
  {
   "cell_type": "code",
   "execution_count": 5,
   "metadata": {},
   "outputs": [],
   "source": [
    "match_stage = {\"$match\": { \"directors\": \"Sam Raimi\" } }\n",
    "pipeline = [\n",
    "    match_stage\n",
    "]\n",
    "sam_raimi_aggregation = movies.aggregate( pipeline )"
   ]
  },
  {
   "cell_type": "code",
   "execution_count": 6,
   "metadata": {},
   "outputs": [
    {
     "data": {
      "text/plain": [
       "<pymongo.command_cursor.CommandCursor at 0x1101e7280>"
      ]
     },
     "execution_count": 6,
     "metadata": {},
     "output_type": "execute_result"
    }
   ],
   "source": [
    "sam_raimi_aggregation"
   ]
  },
  {
   "cell_type": "code",
   "execution_count": 7,
   "metadata": {},
   "outputs": [
    {
     "data": {
      "text/plain": [
       "{'_id': ObjectId('573a1397f29313caabce843c'),\n",
       " 'plot': 'Five friends travel to a cabin in the woods, where they unknowingly release flesh-possessing demons.',\n",
       " 'genres': ['Horror'],\n",
       " 'runtime': 85,\n",
       " 'metacritic': 70,\n",
       " 'rated': 'NC-17',\n",
       " 'cast': ['Bruce Campbell',\n",
       "  'Ellen Sandweiss',\n",
       "  'Richard DeManincor',\n",
       "  'Betsy Baker'],\n",
       " 'poster': 'https://m.media-amazon.com/images/M/MV5BODc2MmVjZmUtNjAzMS00MDNiLWIyM2YtOGEzMjg0YjRhMzRmXkEyXkFqcGdeQXVyMTQxNzMzNDI@._V1_SY1000_SX677_AL_.jpg',\n",
       " 'title': 'The Evil Dead',\n",
       " 'fullplot': 'As a vacation, five friends travel to a small cabin in a deserted jungle. When their first target has been to reach peace, they should fight restlessly as they find themselves surrounded by an evil force that turns its victims into heartless monsters.',\n",
       " 'languages': ['English'],\n",
       " 'released': datetime.datetime(1983, 4, 24, 0, 0),\n",
       " 'directors': ['Sam Raimi'],\n",
       " 'writers': ['Sam Raimi'],\n",
       " 'awards': {'wins': 3, 'nominations': 1, 'text': '3 wins & 1 nomination.'},\n",
       " 'lastupdated': '2015-09-10 17:16:54.720000000',\n",
       " 'year': 1981,\n",
       " 'imdb': {'rating': 7.6, 'votes': 127411, 'id': 83907},\n",
       " 'countries': ['USA'],\n",
       " 'type': 'movie',\n",
       " 'tomatoes': {'viewer': {'rating': 3.7, 'numReviews': 200637, 'meter': 84},\n",
       "  'dvd': datetime.datetime(1999, 1, 19, 0, 0),\n",
       "  'critic': {'rating': 8.1, 'numReviews': 53, 'meter': 96},\n",
       "  'lastUpdated': datetime.datetime(2015, 9, 12, 18, 53, 45),\n",
       "  'consensus': 'This classic low budget horror film combines just the right amount of gore and black humor, giving The Evil Dead an equal amount of thrills and laughs.',\n",
       "  'rotten': 2,\n",
       "  'production': 'New Line Cinema',\n",
       "  'fresh': 51}}"
      ]
     },
     "execution_count": 7,
     "metadata": {},
     "output_type": "execute_result"
    }
   ],
   "source": [
    "list(sam_raimi_aggregation)[0]"
   ]
  },
  {
   "cell_type": "code",
   "execution_count": 8,
   "metadata": {},
   "outputs": [
    {
     "name": "stdout",
     "output_type": "stream",
     "text": [
      "[\n",
      "  {\n",
      "    \"cast\": [\n",
      "      \"Bruce Campbell\",\n",
      "      \"Ellen Sandweiss\",\n",
      "      \"Richard DeManincor\",\n",
      "      \"Betsy Baker\"\n",
      "    ],\n",
      "    \"title\": \"The Evil Dead\"\n",
      "  },\n",
      "  {\n",
      "    \"title\": \"Evil Dead II\",\n",
      "    \"cast\": [\n",
      "      \"Bruce Campbell\",\n",
      "      \"Sarah Berry\",\n",
      "      \"Dan Hicks\",\n",
      "      \"Kassie Wesley DePaiva\"\n",
      "    ]\n",
      "  }\n",
      "]\n"
     ]
    }
   ],
   "source": [
    "sam_raimi_cursor = movies.find(\n",
    "    { \"directors\": \"Sam Raimi\" },\n",
    "    { \"_id\": 0, \"title\": 1, \"cast\": 1 },\n",
    ").limit(2)\n",
    "\n",
    "print(dumps(sam_raimi_cursor, indent=2))"
   ]
  },
  {
   "cell_type": "code",
   "execution_count": 9,
   "metadata": {},
   "outputs": [
    {
     "name": "stdout",
     "output_type": "stream",
     "text": [
      "[\n",
      "  {\n",
      "    \"cast\": [\n",
      "      \"Bruce Campbell\",\n",
      "      \"Ellen Sandweiss\",\n",
      "      \"Richard DeManincor\",\n",
      "      \"Betsy Baker\"\n",
      "    ],\n",
      "    \"title\": \"The Evil Dead\"\n",
      "  },\n",
      "  {\n",
      "    \"title\": \"Evil Dead II\",\n",
      "    \"cast\": [\n",
      "      \"Bruce Campbell\",\n",
      "      \"Sarah Berry\",\n",
      "      \"Dan Hicks\",\n",
      "      \"Kassie Wesley DePaiva\"\n",
      "    ]\n",
      "  }\n",
      "]\n"
     ]
    }
   ],
   "source": [
    "match_stage = { \"$match\": { \"directors\": \"Sam Raimi\" } }\n",
    "project_stage = { \"$project\": { \"_id\": 0, \"title\": 1, \"cast\": 1 } }\n",
    "limit_stage = { \"$limit\": 2 }\n",
    "\n",
    "pipeline = [\n",
    "    match_stage,\n",
    "    project_stage,\n",
    "    limit_stage\n",
    "]\n",
    "\n",
    "sam_raimi_aggregation = movies.aggregate( pipeline )\n",
    "\n",
    "print(dumps(sam_raimi_aggregation, indent=2))"
   ]
  },
  {
   "cell_type": "code",
   "execution_count": 10,
   "metadata": {},
   "outputs": [
    {
     "data": {
      "text/plain": [
       "[{'_id': {'director': 'Sara Hirsh Bordo'}, 'average_rating': 9.4},\n",
       " {'_id': {'director': 'Kevin Derek'}, 'average_rating': 9.3}]"
      ]
     },
     "execution_count": 10,
     "metadata": {},
     "output_type": "execute_result"
    }
   ],
   "source": [
    "unwind_stage = { \"$unwind\": \"$directors\" }\n",
    "\n",
    "group_stage = {\n",
    "    \"$group\": {\n",
    "        \"_id\": {\n",
    "            \"director\": \"$directors\"\n",
    "        },\n",
    "        \"average_rating\": { \"$avg\": \"$imdb.rating\" }\n",
    "    }\n",
    "}\n",
    "\n",
    "sort_stage = {\n",
    "    \"$sort\": { \"average_rating\": -1 }\n",
    "}\n",
    "\n",
    "# create pipeline from four different stages\n",
    "pipeline = [\n",
    "    unwind_stage,\n",
    "    group_stage,\n",
    "    sort_stage\n",
    "]\n",
    "\n",
    "# aggregate using pipeline\n",
    "director_ratings = movies.aggregate(pipeline)\n",
    "\n",
    "# iterate through the resulting cursor\n",
    "list(director_ratings)[:2]"
   ]
  },
  {
   "cell_type": "code",
   "execution_count": null,
   "metadata": {},
   "outputs": [],
   "source": []
  }
 ],
 "metadata": {
  "kernelspec": {
   "display_name": "Python 3 (ipykernel)",
   "language": "python",
   "name": "python3"
  },
  "language_info": {
   "codemirror_mode": {
    "name": "ipython",
    "version": 3
   },
   "file_extension": ".py",
   "mimetype": "text/x-python",
   "name": "python",
   "nbconvert_exporter": "python",
   "pygments_lexer": "ipython3",
   "version": "3.9.7"
  }
 },
 "nbformat": 4,
 "nbformat_minor": 4
}
