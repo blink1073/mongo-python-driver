{
 "cells": [
  {
   "cell_type": "code",
   "execution_count": 1,
   "metadata": {},
   "outputs": [],
   "source": [
    "# import the pymongo library - this is the Python driver!\n",
    "import pymongo\n",
    "\n",
    "client = pymongo.MongoClient()\n",
    "mflix = client.sample_mflix\n",
    "\n",
    "# movies is our collection handle - it refers to the sample_mflix.movies collection\n",
    "movies = mflix.movies"
   ]
  },
  {
   "cell_type": "code",
   "execution_count": 2,
   "metadata": {},
   "outputs": [
    {
     "data": {
      "text/plain": [
       "{'_id': ObjectId('61b7ac87de06c5892a6e2a07'),\n",
       " 'plot': \"A District Attorney's outspoken stand on abortion gets him in trouble with the local community.\",\n",
       " 'genres': ['Drama'],\n",
       " 'runtime': 62,\n",
       " 'rated': 'APPROVED',\n",
       " 'cast': ['Tyrone Power Sr.', 'Helen Riaume', 'Marie Walcamp', 'Cora Drew'],\n",
       " 'title': 'Where Are My Children?',\n",
       " 'fullplot': 'While prosecuting a physician for the death of a client after an abortion, the district attorney discovers that his wife helped her society friends and the daughter of her maid obtain and pay for abortions from the physician (and was perhaps herself also a client.)',\n",
       " 'languages': ['English'],\n",
       " 'released': {'$date': {'$numberLong': '-1693699200000'}},\n",
       " 'directors': ['Phillips Smalley', 'Lois Weber'],\n",
       " 'writers': ['Lucy Payton (from the story by)',\n",
       "  'Franklin Hall (from the story by)',\n",
       "  'Lois Weber',\n",
       "  'Phillips Smalley'],\n",
       " 'awards': {'wins': 1, 'nominations': 0, 'text': '1 win.'},\n",
       " 'lastupdated': {'$date': '2015-09-07T00:51:32.56Z'},\n",
       " 'year': 1916,\n",
       " 'imdb': {'rating': 5.9, 'votes': 247, 'id': 7558},\n",
       " 'countries': ['USA'],\n",
       " 'type': 'movie',\n",
       " 'tomatoes': {'viewer': {'rating': 3.1, 'numReviews': 34, 'meter': 50},\n",
       "  'production': 'MCA/Universal Pictures',\n",
       "  'lastUpdated': {'$date': '2015-08-06T19:49:17Z'}},\n",
       " 'num_mflix_comments': 0}"
      ]
     },
     "execution_count": 2,
     "metadata": {},
     "output_type": "execute_result"
    }
   ],
   "source": [
    "# find one document in the \"movies\" collection - does not matter which one\n",
    "movies.find_one()"
   ]
  },
  {
   "cell_type": "code",
   "execution_count": 3,
   "metadata": {},
   "outputs": [
    {
     "data": {
      "text/plain": [
       "{'_id': ObjectId('573a1399f29313caabceea6d'),\n",
       " 'plot': \"Cynical look at a 50's rebellious Rocker who has to confront his future, thugs with knives, and the crooked town sheriff.\",\n",
       " 'genres': ['Action', 'Drama'],\n",
       " 'runtime': 95,\n",
       " 'rated': 'R',\n",
       " 'cast': ['David Arquette', 'John Hawkes', 'Salma Hayek', 'Jason Wiles'],\n",
       " 'num_mflix_comments': 1,\n",
       " 'poster': 'https://m.media-amazon.com/images/M/MV5BMTgwMzU3MDI1NF5BMl5BanBnXkFtZTcwMDUwMTIyMQ@@._V1_SY1000_SX677_AL_.jpg',\n",
       " 'title': 'Roadracers',\n",
       " 'fullplot': \"Cynical look at a 50's rebellious Rocker who has to confront his future, thugs with knives, and the crooked town sheriff.\",\n",
       " 'languages': ['English'],\n",
       " 'released': datetime.datetime(1994, 7, 22, 0, 0),\n",
       " 'directors': ['Robert Rodriguez'],\n",
       " 'writers': ['Robert Rodriguez', 'Tommy Nix'],\n",
       " 'awards': {'wins': 0, 'nominations': 1, 'text': '1 nomination.'},\n",
       " 'lastupdated': '2015-09-01 00:53:54.567000000',\n",
       " 'year': 1994,\n",
       " 'imdb': {'rating': 6.7, 'votes': 2036, 'id': 111002},\n",
       " 'countries': ['USA'],\n",
       " 'type': 'movie',\n",
       " 'tomatoes': {'viewer': {'rating': 2.8, 'numReviews': 7487, 'meter': 31},\n",
       "  'dvd': datetime.datetime(2002, 9, 3, 0, 0),\n",
       "  'critic': {'rating': 4.9, 'numReviews': 23, 'meter': 26},\n",
       "  'lastUpdated': datetime.datetime(2015, 9, 11, 18, 0, 30),\n",
       "  'rotten': 17,\n",
       "  'production': 'Hollywood Pictures',\n",
       "  'fresh': 6}}"
      ]
     },
     "execution_count": 3,
     "metadata": {},
     "output_type": "execute_result"
    }
   ],
   "source": [
    "# find one document in the \"movies\" collection - must have \"Salma Hayek\" in the \"cast\"\n",
    "movies.find_one( { \"cast\": \"Salma Hayek\" } )"
   ]
  },
  {
   "cell_type": "code",
   "execution_count": 11,
   "metadata": {},
   "outputs": [
    {
     "data": {
      "text/plain": [
       "<pymongo.cursor.Cursor at 0x10467c550>"
      ]
     },
     "execution_count": 11,
     "metadata": {},
     "output_type": "execute_result"
    }
   ],
   "source": [
    "# find all the documents in the \"movies\" collection with \"Salma Hayek\" in the \"cast\"\n",
    "# this returns a cursor, which IS a Python iterable, but is NOT a document!\n",
    "movies.find( { \"cast\": \"Salma Hayek\" } )"
   ]
  },
  {
   "cell_type": "code",
   "execution_count": 10,
   "metadata": {},
   "outputs": [
    {
     "data": {
      "text/plain": [
       "21"
      ]
     },
     "execution_count": 10,
     "metadata": {},
     "output_type": "execute_result"
    }
   ],
   "source": [
    "# return the count of movies with \"Salma Hayek\" in the \"cast\"\n",
    "len(list(movies.find( { \"cast\": \"Salma Hayek\" } )))"
   ]
  },
  {
   "cell_type": "code",
   "execution_count": null,
   "metadata": {},
   "outputs": [],
   "source": [
    "# find all movies with Salma Hayek\n",
    "# then pretty print\n",
    "cursor = movies.find( { \"cast\": \"Salma Hayek\" } )\n",
    "from bson.json_util import dumps\n",
    "print(dumps(cursor, indent=2))"
   ]
  },
  {
   "cell_type": "code",
   "execution_count": null,
   "metadata": {},
   "outputs": [],
   "source": [
    "# find all movies with Salma Hayek, but only project the \"_id\" and \"title\" fields\n",
    "cursor = movies.find( { \"cast\": \"Salma Hayek\" }, { \"title\": 1 } )\n",
    "print(dumps(cursor, indent=2))"
   ]
  },
  {
   "cell_type": "code",
   "execution_count": null,
   "metadata": {},
   "outputs": [],
   "source": [
    "# find all movies with Salma Hayek, but only project the \"title\" field\n",
    "cursor = movies.find( { \"cast\": \"Salma Hayek\" }, { \"title\": 1, \"_id\": 0 } )\n",
    "print(dumps(cursor, indent=2))"
   ]
  },
  {
   "cell_type": "code",
   "execution_count": null,
   "metadata": {},
   "outputs": [],
   "source": []
  }
 ],
 "metadata": {
  "kernelspec": {
   "display_name": "Python 3 (ipykernel)",
   "language": "python",
   "name": "python3"
  },
  "language_info": {
   "codemirror_mode": {
    "name": "ipython",
    "version": 3
   },
   "file_extension": ".py",
   "mimetype": "text/x-python",
   "name": "python",
   "nbconvert_exporter": "python",
   "pygments_lexer": "ipython3",
   "version": "3.9.7"
  }
 },
 "nbformat": 4,
 "nbformat_minor": 4
}
